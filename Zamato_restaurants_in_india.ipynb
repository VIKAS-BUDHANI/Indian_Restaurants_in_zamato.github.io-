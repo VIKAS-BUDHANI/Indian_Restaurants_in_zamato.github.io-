{
  "cells": [
    {
      "cell_type": "markdown",
      "metadata": {
        "id": "view-in-github",
        "colab_type": "text"
      },
      "source": [
        "<a href=\"https://colab.research.google.com/github/VIKAS-BUDHANI/Indian_Restaurants_in_zamato.github.io-/blob/main/Zamato_restaurants_in_india.ipynb\" target=\"_parent\"><img src=\"https://colab.research.google.com/assets/colab-badge.svg\" alt=\"Open In Colab\"/></a>"
      ]
    },
    {
      "cell_type": "markdown",
      "source": [
        "# Indian Restaurants in india\n"
      ],
      "metadata": {
        "id": "ssiOjGGB39TC"
      }
    },
    {
      "cell_type": "code",
      "execution_count": null,
      "metadata": {
        "id": "JcGs_7ePAFzW"
      },
      "outputs": [],
      "source": [
        "import pandas as pd\n",
        "import numpy as np"
      ]
    },
    {
      "cell_type": "code",
      "execution_count": null,
      "metadata": {
        "id": "ElwvBt32JOpQ"
      },
      "outputs": [],
      "source": [
        "df=pd.read_csv(\"/content/drive/MyDrive/ML and DA projects/DA preoject/Zamato/zomato_restaurants_in_India.csv\")\n"
      ]
    },
    {
      "cell_type": "code",
      "execution_count": null,
      "metadata": {
        "colab": {
          "base_uri": "https://localhost:8080/"
        },
        "id": "TtyQh-LUJqHZ",
        "outputId": "2120f59c-cc75-4280-b00a-11bfd582a58b"
      },
      "outputs": [
        {
          "output_type": "execute_result",
          "data": {
            "text/plain": [
              "(211944, 26)"
            ]
          },
          "metadata": {},
          "execution_count": 3
        }
      ],
      "source": [
        "df.shape\n",
        "#so there 211944 rows and 26 columns. lets see how many rows are duplicate and how many coloumns are not relevent to my project"
      ]
    },
    {
      "cell_type": "code",
      "execution_count": null,
      "metadata": {
        "colab": {
          "base_uri": "https://localhost:8080/",
          "height": 768
        },
        "id": "c3KL6KQXYpi0",
        "outputId": "49833681-ceb9-4ed4-dfc4-3aec3d67e61d"
      },
      "outputs": [
        {
          "output_type": "execute_result",
          "data": {
            "text/plain": [
              "    res_id                            name      establishment  \\\n",
              "0  3400299                     Bikanervala    ['Quick Bites']   \n",
              "1  3400005  Mama Chicken Mama Franky House    ['Quick Bites']   \n",
              "2  3401013                   Bhagat Halwai    ['Quick Bites']   \n",
              "3  3400290                   Bhagat Halwai    ['Quick Bites']   \n",
              "4  3401744     The Salt Cafe Kitchen & Bar  ['Casual Dining']   \n",
              "\n",
              "                                                 url  \\\n",
              "0  https://www.zomato.com/agra/bikanervala-khanda...   \n",
              "1  https://www.zomato.com/agra/mama-chicken-mama-...   \n",
              "2  https://www.zomato.com/agra/bhagat-halwai-2-sh...   \n",
              "3  https://www.zomato.com/agra/bhagat-halwai-civi...   \n",
              "4  https://www.zomato.com/agra/the-salt-cafe-kitc...   \n",
              "\n",
              "                                             address  city  city_id  \\\n",
              "0  Kalyani Point, Near Tulsi Cinema, Bypass Road,...  Agra       34   \n",
              "1        Main Market, Sadar Bazaar, Agra Cantt, Agra  Agra       34   \n",
              "2  62/1, Near Easy Day, West Shivaji Nagar, Goalp...  Agra       34   \n",
              "3  Near Anjana Cinema, Nehru Nagar, Civil Lines, ...  Agra       34   \n",
              "4        1C,3rd Floor, Fatehabad Road, Tajganj, Agra  Agra       34   \n",
              "\n",
              "      locality   latitude  longitude  ... price_range  currency  \\\n",
              "0     Khandari  27.211450  78.002381  ...           2       Rs.   \n",
              "1   Agra Cantt  27.160569  78.011583  ...           2       Rs.   \n",
              "2     Shahganj  27.182938  77.979684  ...           1       Rs.   \n",
              "3  Civil Lines  27.205668  78.004799  ...           1       Rs.   \n",
              "4      Tajganj  27.157709  78.052421  ...           3       Rs.   \n",
              "\n",
              "                                          highlights aggregate_rating  \\\n",
              "0  ['Lunch', 'Takeaway Available', 'Credit Card',...              4.4   \n",
              "1  ['Delivery', 'No Alcohol Available', 'Dinner',...              4.4   \n",
              "2  ['No Alcohol Available', 'Dinner', 'Takeaway A...              4.2   \n",
              "3  ['Takeaway Available', 'Credit Card', 'Lunch',...              4.3   \n",
              "4  ['Lunch', 'Serves Alcohol', 'Cash', 'Credit Ca...              4.9   \n",
              "\n",
              "  rating_text  votes  photo_count opentable_support delivery  takeaway  \n",
              "0   Very Good    814          154               0.0       -1        -1  \n",
              "1   Very Good   1203          161               0.0       -1        -1  \n",
              "2   Very Good    801          107               0.0        1        -1  \n",
              "3   Very Good    693          157               0.0        1        -1  \n",
              "4   Excellent    470          291               0.0        1        -1  \n",
              "\n",
              "[5 rows x 26 columns]"
            ],
            "text/html": [
              "\n",
              "  <div id=\"df-f5c9972b-7e45-4312-bc73-6d002317ba51\">\n",
              "    <div class=\"colab-df-container\">\n",
              "      <div>\n",
              "<style scoped>\n",
              "    .dataframe tbody tr th:only-of-type {\n",
              "        vertical-align: middle;\n",
              "    }\n",
              "\n",
              "    .dataframe tbody tr th {\n",
              "        vertical-align: top;\n",
              "    }\n",
              "\n",
              "    .dataframe thead th {\n",
              "        text-align: right;\n",
              "    }\n",
              "</style>\n",
              "<table border=\"1\" class=\"dataframe\">\n",
              "  <thead>\n",
              "    <tr style=\"text-align: right;\">\n",
              "      <th></th>\n",
              "      <th>res_id</th>\n",
              "      <th>name</th>\n",
              "      <th>establishment</th>\n",
              "      <th>url</th>\n",
              "      <th>address</th>\n",
              "      <th>city</th>\n",
              "      <th>city_id</th>\n",
              "      <th>locality</th>\n",
              "      <th>latitude</th>\n",
              "      <th>longitude</th>\n",
              "      <th>...</th>\n",
              "      <th>price_range</th>\n",
              "      <th>currency</th>\n",
              "      <th>highlights</th>\n",
              "      <th>aggregate_rating</th>\n",
              "      <th>rating_text</th>\n",
              "      <th>votes</th>\n",
              "      <th>photo_count</th>\n",
              "      <th>opentable_support</th>\n",
              "      <th>delivery</th>\n",
              "      <th>takeaway</th>\n",
              "    </tr>\n",
              "  </thead>\n",
              "  <tbody>\n",
              "    <tr>\n",
              "      <th>0</th>\n",
              "      <td>3400299</td>\n",
              "      <td>Bikanervala</td>\n",
              "      <td>['Quick Bites']</td>\n",
              "      <td>https://www.zomato.com/agra/bikanervala-khanda...</td>\n",
              "      <td>Kalyani Point, Near Tulsi Cinema, Bypass Road,...</td>\n",
              "      <td>Agra</td>\n",
              "      <td>34</td>\n",
              "      <td>Khandari</td>\n",
              "      <td>27.211450</td>\n",
              "      <td>78.002381</td>\n",
              "      <td>...</td>\n",
              "      <td>2</td>\n",
              "      <td>Rs.</td>\n",
              "      <td>['Lunch', 'Takeaway Available', 'Credit Card',...</td>\n",
              "      <td>4.4</td>\n",
              "      <td>Very Good</td>\n",
              "      <td>814</td>\n",
              "      <td>154</td>\n",
              "      <td>0.0</td>\n",
              "      <td>-1</td>\n",
              "      <td>-1</td>\n",
              "    </tr>\n",
              "    <tr>\n",
              "      <th>1</th>\n",
              "      <td>3400005</td>\n",
              "      <td>Mama Chicken Mama Franky House</td>\n",
              "      <td>['Quick Bites']</td>\n",
              "      <td>https://www.zomato.com/agra/mama-chicken-mama-...</td>\n",
              "      <td>Main Market, Sadar Bazaar, Agra Cantt, Agra</td>\n",
              "      <td>Agra</td>\n",
              "      <td>34</td>\n",
              "      <td>Agra Cantt</td>\n",
              "      <td>27.160569</td>\n",
              "      <td>78.011583</td>\n",
              "      <td>...</td>\n",
              "      <td>2</td>\n",
              "      <td>Rs.</td>\n",
              "      <td>['Delivery', 'No Alcohol Available', 'Dinner',...</td>\n",
              "      <td>4.4</td>\n",
              "      <td>Very Good</td>\n",
              "      <td>1203</td>\n",
              "      <td>161</td>\n",
              "      <td>0.0</td>\n",
              "      <td>-1</td>\n",
              "      <td>-1</td>\n",
              "    </tr>\n",
              "    <tr>\n",
              "      <th>2</th>\n",
              "      <td>3401013</td>\n",
              "      <td>Bhagat Halwai</td>\n",
              "      <td>['Quick Bites']</td>\n",
              "      <td>https://www.zomato.com/agra/bhagat-halwai-2-sh...</td>\n",
              "      <td>62/1, Near Easy Day, West Shivaji Nagar, Goalp...</td>\n",
              "      <td>Agra</td>\n",
              "      <td>34</td>\n",
              "      <td>Shahganj</td>\n",
              "      <td>27.182938</td>\n",
              "      <td>77.979684</td>\n",
              "      <td>...</td>\n",
              "      <td>1</td>\n",
              "      <td>Rs.</td>\n",
              "      <td>['No Alcohol Available', 'Dinner', 'Takeaway A...</td>\n",
              "      <td>4.2</td>\n",
              "      <td>Very Good</td>\n",
              "      <td>801</td>\n",
              "      <td>107</td>\n",
              "      <td>0.0</td>\n",
              "      <td>1</td>\n",
              "      <td>-1</td>\n",
              "    </tr>\n",
              "    <tr>\n",
              "      <th>3</th>\n",
              "      <td>3400290</td>\n",
              "      <td>Bhagat Halwai</td>\n",
              "      <td>['Quick Bites']</td>\n",
              "      <td>https://www.zomato.com/agra/bhagat-halwai-civi...</td>\n",
              "      <td>Near Anjana Cinema, Nehru Nagar, Civil Lines, ...</td>\n",
              "      <td>Agra</td>\n",
              "      <td>34</td>\n",
              "      <td>Civil Lines</td>\n",
              "      <td>27.205668</td>\n",
              "      <td>78.004799</td>\n",
              "      <td>...</td>\n",
              "      <td>1</td>\n",
              "      <td>Rs.</td>\n",
              "      <td>['Takeaway Available', 'Credit Card', 'Lunch',...</td>\n",
              "      <td>4.3</td>\n",
              "      <td>Very Good</td>\n",
              "      <td>693</td>\n",
              "      <td>157</td>\n",
              "      <td>0.0</td>\n",
              "      <td>1</td>\n",
              "      <td>-1</td>\n",
              "    </tr>\n",
              "    <tr>\n",
              "      <th>4</th>\n",
              "      <td>3401744</td>\n",
              "      <td>The Salt Cafe Kitchen &amp; Bar</td>\n",
              "      <td>['Casual Dining']</td>\n",
              "      <td>https://www.zomato.com/agra/the-salt-cafe-kitc...</td>\n",
              "      <td>1C,3rd Floor, Fatehabad Road, Tajganj, Agra</td>\n",
              "      <td>Agra</td>\n",
              "      <td>34</td>\n",
              "      <td>Tajganj</td>\n",
              "      <td>27.157709</td>\n",
              "      <td>78.052421</td>\n",
              "      <td>...</td>\n",
              "      <td>3</td>\n",
              "      <td>Rs.</td>\n",
              "      <td>['Lunch', 'Serves Alcohol', 'Cash', 'Credit Ca...</td>\n",
              "      <td>4.9</td>\n",
              "      <td>Excellent</td>\n",
              "      <td>470</td>\n",
              "      <td>291</td>\n",
              "      <td>0.0</td>\n",
              "      <td>1</td>\n",
              "      <td>-1</td>\n",
              "    </tr>\n",
              "  </tbody>\n",
              "</table>\n",
              "<p>5 rows × 26 columns</p>\n",
              "</div>\n",
              "      <button class=\"colab-df-convert\" onclick=\"convertToInteractive('df-f5c9972b-7e45-4312-bc73-6d002317ba51')\"\n",
              "              title=\"Convert this dataframe to an interactive table.\"\n",
              "              style=\"display:none;\">\n",
              "        \n",
              "  <svg xmlns=\"http://www.w3.org/2000/svg\" height=\"24px\"viewBox=\"0 0 24 24\"\n",
              "       width=\"24px\">\n",
              "    <path d=\"M0 0h24v24H0V0z\" fill=\"none\"/>\n",
              "    <path d=\"M18.56 5.44l.94 2.06.94-2.06 2.06-.94-2.06-.94-.94-2.06-.94 2.06-2.06.94zm-11 1L8.5 8.5l.94-2.06 2.06-.94-2.06-.94L8.5 2.5l-.94 2.06-2.06.94zm10 10l.94 2.06.94-2.06 2.06-.94-2.06-.94-.94-2.06-.94 2.06-2.06.94z\"/><path d=\"M17.41 7.96l-1.37-1.37c-.4-.4-.92-.59-1.43-.59-.52 0-1.04.2-1.43.59L10.3 9.45l-7.72 7.72c-.78.78-.78 2.05 0 2.83L4 21.41c.39.39.9.59 1.41.59.51 0 1.02-.2 1.41-.59l7.78-7.78 2.81-2.81c.8-.78.8-2.07 0-2.86zM5.41 20L4 18.59l7.72-7.72 1.47 1.35L5.41 20z\"/>\n",
              "  </svg>\n",
              "      </button>\n",
              "      \n",
              "  <style>\n",
              "    .colab-df-container {\n",
              "      display:flex;\n",
              "      flex-wrap:wrap;\n",
              "      gap: 12px;\n",
              "    }\n",
              "\n",
              "    .colab-df-convert {\n",
              "      background-color: #E8F0FE;\n",
              "      border: none;\n",
              "      border-radius: 50%;\n",
              "      cursor: pointer;\n",
              "      display: none;\n",
              "      fill: #1967D2;\n",
              "      height: 32px;\n",
              "      padding: 0 0 0 0;\n",
              "      width: 32px;\n",
              "    }\n",
              "\n",
              "    .colab-df-convert:hover {\n",
              "      background-color: #E2EBFA;\n",
              "      box-shadow: 0px 1px 2px rgba(60, 64, 67, 0.3), 0px 1px 3px 1px rgba(60, 64, 67, 0.15);\n",
              "      fill: #174EA6;\n",
              "    }\n",
              "\n",
              "    [theme=dark] .colab-df-convert {\n",
              "      background-color: #3B4455;\n",
              "      fill: #D2E3FC;\n",
              "    }\n",
              "\n",
              "    [theme=dark] .colab-df-convert:hover {\n",
              "      background-color: #434B5C;\n",
              "      box-shadow: 0px 1px 3px 1px rgba(0, 0, 0, 0.15);\n",
              "      filter: drop-shadow(0px 1px 2px rgba(0, 0, 0, 0.3));\n",
              "      fill: #FFFFFF;\n",
              "    }\n",
              "  </style>\n",
              "\n",
              "      <script>\n",
              "        const buttonEl =\n",
              "          document.querySelector('#df-f5c9972b-7e45-4312-bc73-6d002317ba51 button.colab-df-convert');\n",
              "        buttonEl.style.display =\n",
              "          google.colab.kernel.accessAllowed ? 'block' : 'none';\n",
              "\n",
              "        async function convertToInteractive(key) {\n",
              "          const element = document.querySelector('#df-f5c9972b-7e45-4312-bc73-6d002317ba51');\n",
              "          const dataTable =\n",
              "            await google.colab.kernel.invokeFunction('convertToInteractive',\n",
              "                                                     [key], {});\n",
              "          if (!dataTable) return;\n",
              "\n",
              "          const docLinkHtml = 'Like what you see? Visit the ' +\n",
              "            '<a target=\"_blank\" href=https://colab.research.google.com/notebooks/data_table.ipynb>data table notebook</a>'\n",
              "            + ' to learn more about interactive tables.';\n",
              "          element.innerHTML = '';\n",
              "          dataTable['output_type'] = 'display_data';\n",
              "          await google.colab.output.renderOutput(dataTable, element);\n",
              "          const docLink = document.createElement('div');\n",
              "          docLink.innerHTML = docLinkHtml;\n",
              "          element.appendChild(docLink);\n",
              "        }\n",
              "      </script>\n",
              "    </div>\n",
              "  </div>\n",
              "  "
            ]
          },
          "metadata": {},
          "execution_count": 4
        }
      ],
      "source": [
        "df.head()"
      ]
    },
    {
      "cell_type": "code",
      "execution_count": null,
      "metadata": {
        "colab": {
          "base_uri": "https://localhost:8080/",
          "height": 1000
        },
        "id": "ZBia_XPTflNi",
        "outputId": "a7e0d507-198b-4df1-9982-2ef155ae5e4a"
      },
      "outputs": [
        {
          "output_type": "execute_result",
          "data": {
            "text/plain": [
              "          res_id                            name      establishment  \\\n",
              "101      3400059           Peshawri - ITC Mughal    ['Fine Dining']   \n",
              "116      3400060           Taj Bano - ITC Mughal    ['Fine Dining']   \n",
              "140      3400017                  Pinch Of Spice  ['Casual Dining']   \n",
              "141      3400018                  Pinch Of Spice  ['Casual Dining']   \n",
              "142      3400850                      Urban Deck  ['Casual Dining']   \n",
              "...          ...                             ...                ...   \n",
              "211937  18855810             Biryani aur Baatein  ['Casual Dining']   \n",
              "211938  18662583                     Wok On Fire  ['Casual Dining']   \n",
              "211939   3202251  Kali Mirch Cafe And Restaurant  ['Casual Dining']   \n",
              "211941  18984164                The Grand Thakar  ['Casual Dining']   \n",
              "211943  18879846     Freshco's - The Health Cafe           ['Café']   \n",
              "\n",
              "                                                      url  \\\n",
              "101     https://www.zomato.com/agra/peshawri-itc-mugha...   \n",
              "116     https://www.zomato.com/agra/taj-bano-itc-mugha...   \n",
              "140     https://www.zomato.com/agra/pinch-of-spice-civ...   \n",
              "141     https://www.zomato.com/agra/pinch-of-spice-taj...   \n",
              "142     https://www.zomato.com/agra/urban-deck-2-civil...   \n",
              "...                                                   ...   \n",
              "211937  https://www.zomato.com/vadodara/biryani-aur-ba...   \n",
              "211938  https://www.zomato.com/vadodara/wok-on-fire-fa...   \n",
              "211939  https://www.zomato.com/vadodara/kali-mirch-caf...   \n",
              "211941  https://www.zomato.com/vadodara/the-grand-thak...   \n",
              "211943  https://www.zomato.com/vadodara/freshcos-the-h...   \n",
              "\n",
              "                                                  address      city  city_id  \\\n",
              "101             ITC Mughal, Fatehabad Road, Tajganj, Agra      Agra       34   \n",
              "116             ITC Mughal, Fatehabad Road, Tajganj, Agra      Agra       34   \n",
              "140     23/453, Opposite Sanjay Cinema, Wazipura Road,...      Agra       34   \n",
              "141                 1076/2, Fatehabad Road, Tajganj, Agra      Agra       34   \n",
              "142     5th Floor, The P L Palace Hotel, MG Road, Sanj...      Agra       34   \n",
              "...                                                   ...       ...      ...   \n",
              "211937  Shop 14, Atlantis K-10, A Wing, Genda Circle R...  Vadodara       32   \n",
              "211938  Ground Floor 1, Rossette Building, Opposite Se...  Vadodara       32   \n",
              "211939  Manu Smriti Complex, Near Navrachna School, GI...  Vadodara       32   \n",
              "211941  3rd Floor, Shreem Shalini Mall, Opposite Conqu...  Vadodara       32   \n",
              "211943  Shop 7, Ground Floor, Opposite Natubhai Circle...  Vadodara       32   \n",
              "\n",
              "                   locality   latitude  longitude  ... price_range  currency  \\\n",
              "101     ITC Mughal, Tajganj  27.161150  78.043993  ...           4       Rs.   \n",
              "116     ITC Mughal, Tajganj  27.161132  78.044022  ...           4       Rs.   \n",
              "140             Civil Lines  27.201735  78.007625  ...           4       Rs.   \n",
              "141                 Tajganj  27.159649  78.043304  ...           4       Rs.   \n",
              "142             Civil Lines  27.199573  78.003699  ...           4       Rs.   \n",
              "...                     ...        ...        ...  ...         ...       ...   \n",
              "211937             Alkapuri  22.317746  73.168043  ...           2       Rs.   \n",
              "211938            Fatehgunj  22.323357  73.187461  ...           3       Rs.   \n",
              "211939            Fatehgunj  22.336931  73.192356  ...           2       Rs.   \n",
              "211941             Alkapuri  22.310563  73.171163  ...           2       Rs.   \n",
              "211943             Vadiwadi  22.309935  73.158768  ...           2       Rs.   \n",
              "\n",
              "                                               highlights aggregate_rating  \\\n",
              "101     ['Lunch', 'Cash', 'Credit Card', 'Dinner', 'De...              4.4   \n",
              "116     ['Credit Card', 'Lunch', 'Cash', 'Debit Card',...              4.3   \n",
              "140     ['Lunch', 'Delivery', 'Credit Card', 'Dinner',...              4.6   \n",
              "141     ['Delivery', 'Dinner', 'Cash', 'Credit Card', ...              4.6   \n",
              "142     ['Dinner', 'Cash', 'Debit Card', 'Takeaway Ava...              4.3   \n",
              "...                                                   ...              ...   \n",
              "211937  ['Dinner', 'Cash', 'Takeaway Available', 'Debi...              4.1   \n",
              "211938  ['Dinner', 'Cash', 'Debit Card', 'Lunch', 'Tak...              4.0   \n",
              "211939  ['Dinner', 'Cash', 'Lunch', 'Delivery', 'Indoo...              4.1   \n",
              "211941  ['Dinner', 'Cash', 'Debit Card', 'Lunch', 'Tak...              4.0   \n",
              "211943  ['Dinner', 'Cash', 'Takeaway Available', 'Debi...              4.0   \n",
              "\n",
              "       rating_text  votes  photo_count opentable_support delivery  takeaway  \n",
              "101      Very Good    353          154               0.0       -1        -1  \n",
              "116      Very Good     96          205               0.0       -1        -1  \n",
              "140      Excellent    915          105               0.0        1        -1  \n",
              "141      Excellent    965          690               0.0        1        -1  \n",
              "142      Very Good    672          192               0.0        1        -1  \n",
              "...            ...    ...          ...               ...      ...       ...  \n",
              "211937   Very Good    154           96               0.0       -1        -1  \n",
              "211938   Very Good    301          126               0.0        1        -1  \n",
              "211939   Very Good    243           40               0.0       -1        -1  \n",
              "211941   Very Good    111           38               0.0       -1        -1  \n",
              "211943   Very Good     93           53               0.0        1        -1  \n",
              "\n",
              "[156376 rows x 26 columns]"
            ],
            "text/html": [
              "\n",
              "  <div id=\"df-7d2409ea-5d12-4194-b880-4c0fb234a89d\">\n",
              "    <div class=\"colab-df-container\">\n",
              "      <div>\n",
              "<style scoped>\n",
              "    .dataframe tbody tr th:only-of-type {\n",
              "        vertical-align: middle;\n",
              "    }\n",
              "\n",
              "    .dataframe tbody tr th {\n",
              "        vertical-align: top;\n",
              "    }\n",
              "\n",
              "    .dataframe thead th {\n",
              "        text-align: right;\n",
              "    }\n",
              "</style>\n",
              "<table border=\"1\" class=\"dataframe\">\n",
              "  <thead>\n",
              "    <tr style=\"text-align: right;\">\n",
              "      <th></th>\n",
              "      <th>res_id</th>\n",
              "      <th>name</th>\n",
              "      <th>establishment</th>\n",
              "      <th>url</th>\n",
              "      <th>address</th>\n",
              "      <th>city</th>\n",
              "      <th>city_id</th>\n",
              "      <th>locality</th>\n",
              "      <th>latitude</th>\n",
              "      <th>longitude</th>\n",
              "      <th>...</th>\n",
              "      <th>price_range</th>\n",
              "      <th>currency</th>\n",
              "      <th>highlights</th>\n",
              "      <th>aggregate_rating</th>\n",
              "      <th>rating_text</th>\n",
              "      <th>votes</th>\n",
              "      <th>photo_count</th>\n",
              "      <th>opentable_support</th>\n",
              "      <th>delivery</th>\n",
              "      <th>takeaway</th>\n",
              "    </tr>\n",
              "  </thead>\n",
              "  <tbody>\n",
              "    <tr>\n",
              "      <th>101</th>\n",
              "      <td>3400059</td>\n",
              "      <td>Peshawri - ITC Mughal</td>\n",
              "      <td>['Fine Dining']</td>\n",
              "      <td>https://www.zomato.com/agra/peshawri-itc-mugha...</td>\n",
              "      <td>ITC Mughal, Fatehabad Road, Tajganj, Agra</td>\n",
              "      <td>Agra</td>\n",
              "      <td>34</td>\n",
              "      <td>ITC Mughal, Tajganj</td>\n",
              "      <td>27.161150</td>\n",
              "      <td>78.043993</td>\n",
              "      <td>...</td>\n",
              "      <td>4</td>\n",
              "      <td>Rs.</td>\n",
              "      <td>['Lunch', 'Cash', 'Credit Card', 'Dinner', 'De...</td>\n",
              "      <td>4.4</td>\n",
              "      <td>Very Good</td>\n",
              "      <td>353</td>\n",
              "      <td>154</td>\n",
              "      <td>0.0</td>\n",
              "      <td>-1</td>\n",
              "      <td>-1</td>\n",
              "    </tr>\n",
              "    <tr>\n",
              "      <th>116</th>\n",
              "      <td>3400060</td>\n",
              "      <td>Taj Bano - ITC Mughal</td>\n",
              "      <td>['Fine Dining']</td>\n",
              "      <td>https://www.zomato.com/agra/taj-bano-itc-mugha...</td>\n",
              "      <td>ITC Mughal, Fatehabad Road, Tajganj, Agra</td>\n",
              "      <td>Agra</td>\n",
              "      <td>34</td>\n",
              "      <td>ITC Mughal, Tajganj</td>\n",
              "      <td>27.161132</td>\n",
              "      <td>78.044022</td>\n",
              "      <td>...</td>\n",
              "      <td>4</td>\n",
              "      <td>Rs.</td>\n",
              "      <td>['Credit Card', 'Lunch', 'Cash', 'Debit Card',...</td>\n",
              "      <td>4.3</td>\n",
              "      <td>Very Good</td>\n",
              "      <td>96</td>\n",
              "      <td>205</td>\n",
              "      <td>0.0</td>\n",
              "      <td>-1</td>\n",
              "      <td>-1</td>\n",
              "    </tr>\n",
              "    <tr>\n",
              "      <th>140</th>\n",
              "      <td>3400017</td>\n",
              "      <td>Pinch Of Spice</td>\n",
              "      <td>['Casual Dining']</td>\n",
              "      <td>https://www.zomato.com/agra/pinch-of-spice-civ...</td>\n",
              "      <td>23/453, Opposite Sanjay Cinema, Wazipura Road,...</td>\n",
              "      <td>Agra</td>\n",
              "      <td>34</td>\n",
              "      <td>Civil Lines</td>\n",
              "      <td>27.201735</td>\n",
              "      <td>78.007625</td>\n",
              "      <td>...</td>\n",
              "      <td>4</td>\n",
              "      <td>Rs.</td>\n",
              "      <td>['Lunch', 'Delivery', 'Credit Card', 'Dinner',...</td>\n",
              "      <td>4.6</td>\n",
              "      <td>Excellent</td>\n",
              "      <td>915</td>\n",
              "      <td>105</td>\n",
              "      <td>0.0</td>\n",
              "      <td>1</td>\n",
              "      <td>-1</td>\n",
              "    </tr>\n",
              "    <tr>\n",
              "      <th>141</th>\n",
              "      <td>3400018</td>\n",
              "      <td>Pinch Of Spice</td>\n",
              "      <td>['Casual Dining']</td>\n",
              "      <td>https://www.zomato.com/agra/pinch-of-spice-taj...</td>\n",
              "      <td>1076/2, Fatehabad Road, Tajganj, Agra</td>\n",
              "      <td>Agra</td>\n",
              "      <td>34</td>\n",
              "      <td>Tajganj</td>\n",
              "      <td>27.159649</td>\n",
              "      <td>78.043304</td>\n",
              "      <td>...</td>\n",
              "      <td>4</td>\n",
              "      <td>Rs.</td>\n",
              "      <td>['Delivery', 'Dinner', 'Cash', 'Credit Card', ...</td>\n",
              "      <td>4.6</td>\n",
              "      <td>Excellent</td>\n",
              "      <td>965</td>\n",
              "      <td>690</td>\n",
              "      <td>0.0</td>\n",
              "      <td>1</td>\n",
              "      <td>-1</td>\n",
              "    </tr>\n",
              "    <tr>\n",
              "      <th>142</th>\n",
              "      <td>3400850</td>\n",
              "      <td>Urban Deck</td>\n",
              "      <td>['Casual Dining']</td>\n",
              "      <td>https://www.zomato.com/agra/urban-deck-2-civil...</td>\n",
              "      <td>5th Floor, The P L Palace Hotel, MG Road, Sanj...</td>\n",
              "      <td>Agra</td>\n",
              "      <td>34</td>\n",
              "      <td>Civil Lines</td>\n",
              "      <td>27.199573</td>\n",
              "      <td>78.003699</td>\n",
              "      <td>...</td>\n",
              "      <td>4</td>\n",
              "      <td>Rs.</td>\n",
              "      <td>['Dinner', 'Cash', 'Debit Card', 'Takeaway Ava...</td>\n",
              "      <td>4.3</td>\n",
              "      <td>Very Good</td>\n",
              "      <td>672</td>\n",
              "      <td>192</td>\n",
              "      <td>0.0</td>\n",
              "      <td>1</td>\n",
              "      <td>-1</td>\n",
              "    </tr>\n",
              "    <tr>\n",
              "      <th>...</th>\n",
              "      <td>...</td>\n",
              "      <td>...</td>\n",
              "      <td>...</td>\n",
              "      <td>...</td>\n",
              "      <td>...</td>\n",
              "      <td>...</td>\n",
              "      <td>...</td>\n",
              "      <td>...</td>\n",
              "      <td>...</td>\n",
              "      <td>...</td>\n",
              "      <td>...</td>\n",
              "      <td>...</td>\n",
              "      <td>...</td>\n",
              "      <td>...</td>\n",
              "      <td>...</td>\n",
              "      <td>...</td>\n",
              "      <td>...</td>\n",
              "      <td>...</td>\n",
              "      <td>...</td>\n",
              "      <td>...</td>\n",
              "      <td>...</td>\n",
              "    </tr>\n",
              "    <tr>\n",
              "      <th>211937</th>\n",
              "      <td>18855810</td>\n",
              "      <td>Biryani aur Baatein</td>\n",
              "      <td>['Casual Dining']</td>\n",
              "      <td>https://www.zomato.com/vadodara/biryani-aur-ba...</td>\n",
              "      <td>Shop 14, Atlantis K-10, A Wing, Genda Circle R...</td>\n",
              "      <td>Vadodara</td>\n",
              "      <td>32</td>\n",
              "      <td>Alkapuri</td>\n",
              "      <td>22.317746</td>\n",
              "      <td>73.168043</td>\n",
              "      <td>...</td>\n",
              "      <td>2</td>\n",
              "      <td>Rs.</td>\n",
              "      <td>['Dinner', 'Cash', 'Takeaway Available', 'Debi...</td>\n",
              "      <td>4.1</td>\n",
              "      <td>Very Good</td>\n",
              "      <td>154</td>\n",
              "      <td>96</td>\n",
              "      <td>0.0</td>\n",
              "      <td>-1</td>\n",
              "      <td>-1</td>\n",
              "    </tr>\n",
              "    <tr>\n",
              "      <th>211938</th>\n",
              "      <td>18662583</td>\n",
              "      <td>Wok On Fire</td>\n",
              "      <td>['Casual Dining']</td>\n",
              "      <td>https://www.zomato.com/vadodara/wok-on-fire-fa...</td>\n",
              "      <td>Ground Floor 1, Rossette Building, Opposite Se...</td>\n",
              "      <td>Vadodara</td>\n",
              "      <td>32</td>\n",
              "      <td>Fatehgunj</td>\n",
              "      <td>22.323357</td>\n",
              "      <td>73.187461</td>\n",
              "      <td>...</td>\n",
              "      <td>3</td>\n",
              "      <td>Rs.</td>\n",
              "      <td>['Dinner', 'Cash', 'Debit Card', 'Lunch', 'Tak...</td>\n",
              "      <td>4.0</td>\n",
              "      <td>Very Good</td>\n",
              "      <td>301</td>\n",
              "      <td>126</td>\n",
              "      <td>0.0</td>\n",
              "      <td>1</td>\n",
              "      <td>-1</td>\n",
              "    </tr>\n",
              "    <tr>\n",
              "      <th>211939</th>\n",
              "      <td>3202251</td>\n",
              "      <td>Kali Mirch Cafe And Restaurant</td>\n",
              "      <td>['Casual Dining']</td>\n",
              "      <td>https://www.zomato.com/vadodara/kali-mirch-caf...</td>\n",
              "      <td>Manu Smriti Complex, Near Navrachna School, GI...</td>\n",
              "      <td>Vadodara</td>\n",
              "      <td>32</td>\n",
              "      <td>Fatehgunj</td>\n",
              "      <td>22.336931</td>\n",
              "      <td>73.192356</td>\n",
              "      <td>...</td>\n",
              "      <td>2</td>\n",
              "      <td>Rs.</td>\n",
              "      <td>['Dinner', 'Cash', 'Lunch', 'Delivery', 'Indoo...</td>\n",
              "      <td>4.1</td>\n",
              "      <td>Very Good</td>\n",
              "      <td>243</td>\n",
              "      <td>40</td>\n",
              "      <td>0.0</td>\n",
              "      <td>-1</td>\n",
              "      <td>-1</td>\n",
              "    </tr>\n",
              "    <tr>\n",
              "      <th>211941</th>\n",
              "      <td>18984164</td>\n",
              "      <td>The Grand Thakar</td>\n",
              "      <td>['Casual Dining']</td>\n",
              "      <td>https://www.zomato.com/vadodara/the-grand-thak...</td>\n",
              "      <td>3rd Floor, Shreem Shalini Mall, Opposite Conqu...</td>\n",
              "      <td>Vadodara</td>\n",
              "      <td>32</td>\n",
              "      <td>Alkapuri</td>\n",
              "      <td>22.310563</td>\n",
              "      <td>73.171163</td>\n",
              "      <td>...</td>\n",
              "      <td>2</td>\n",
              "      <td>Rs.</td>\n",
              "      <td>['Dinner', 'Cash', 'Debit Card', 'Lunch', 'Tak...</td>\n",
              "      <td>4.0</td>\n",
              "      <td>Very Good</td>\n",
              "      <td>111</td>\n",
              "      <td>38</td>\n",
              "      <td>0.0</td>\n",
              "      <td>-1</td>\n",
              "      <td>-1</td>\n",
              "    </tr>\n",
              "    <tr>\n",
              "      <th>211943</th>\n",
              "      <td>18879846</td>\n",
              "      <td>Freshco's - The Health Cafe</td>\n",
              "      <td>['Café']</td>\n",
              "      <td>https://www.zomato.com/vadodara/freshcos-the-h...</td>\n",
              "      <td>Shop 7, Ground Floor, Opposite Natubhai Circle...</td>\n",
              "      <td>Vadodara</td>\n",
              "      <td>32</td>\n",
              "      <td>Vadiwadi</td>\n",
              "      <td>22.309935</td>\n",
              "      <td>73.158768</td>\n",
              "      <td>...</td>\n",
              "      <td>2</td>\n",
              "      <td>Rs.</td>\n",
              "      <td>['Dinner', 'Cash', 'Takeaway Available', 'Debi...</td>\n",
              "      <td>4.0</td>\n",
              "      <td>Very Good</td>\n",
              "      <td>93</td>\n",
              "      <td>53</td>\n",
              "      <td>0.0</td>\n",
              "      <td>1</td>\n",
              "      <td>-1</td>\n",
              "    </tr>\n",
              "  </tbody>\n",
              "</table>\n",
              "<p>156376 rows × 26 columns</p>\n",
              "</div>\n",
              "      <button class=\"colab-df-convert\" onclick=\"convertToInteractive('df-7d2409ea-5d12-4194-b880-4c0fb234a89d')\"\n",
              "              title=\"Convert this dataframe to an interactive table.\"\n",
              "              style=\"display:none;\">\n",
              "        \n",
              "  <svg xmlns=\"http://www.w3.org/2000/svg\" height=\"24px\"viewBox=\"0 0 24 24\"\n",
              "       width=\"24px\">\n",
              "    <path d=\"M0 0h24v24H0V0z\" fill=\"none\"/>\n",
              "    <path d=\"M18.56 5.44l.94 2.06.94-2.06 2.06-.94-2.06-.94-.94-2.06-.94 2.06-2.06.94zm-11 1L8.5 8.5l.94-2.06 2.06-.94-2.06-.94L8.5 2.5l-.94 2.06-2.06.94zm10 10l.94 2.06.94-2.06 2.06-.94-2.06-.94-.94-2.06-.94 2.06-2.06.94z\"/><path d=\"M17.41 7.96l-1.37-1.37c-.4-.4-.92-.59-1.43-.59-.52 0-1.04.2-1.43.59L10.3 9.45l-7.72 7.72c-.78.78-.78 2.05 0 2.83L4 21.41c.39.39.9.59 1.41.59.51 0 1.02-.2 1.41-.59l7.78-7.78 2.81-2.81c.8-.78.8-2.07 0-2.86zM5.41 20L4 18.59l7.72-7.72 1.47 1.35L5.41 20z\"/>\n",
              "  </svg>\n",
              "      </button>\n",
              "      \n",
              "  <style>\n",
              "    .colab-df-container {\n",
              "      display:flex;\n",
              "      flex-wrap:wrap;\n",
              "      gap: 12px;\n",
              "    }\n",
              "\n",
              "    .colab-df-convert {\n",
              "      background-color: #E8F0FE;\n",
              "      border: none;\n",
              "      border-radius: 50%;\n",
              "      cursor: pointer;\n",
              "      display: none;\n",
              "      fill: #1967D2;\n",
              "      height: 32px;\n",
              "      padding: 0 0 0 0;\n",
              "      width: 32px;\n",
              "    }\n",
              "\n",
              "    .colab-df-convert:hover {\n",
              "      background-color: #E2EBFA;\n",
              "      box-shadow: 0px 1px 2px rgba(60, 64, 67, 0.3), 0px 1px 3px 1px rgba(60, 64, 67, 0.15);\n",
              "      fill: #174EA6;\n",
              "    }\n",
              "\n",
              "    [theme=dark] .colab-df-convert {\n",
              "      background-color: #3B4455;\n",
              "      fill: #D2E3FC;\n",
              "    }\n",
              "\n",
              "    [theme=dark] .colab-df-convert:hover {\n",
              "      background-color: #434B5C;\n",
              "      box-shadow: 0px 1px 3px 1px rgba(0, 0, 0, 0.15);\n",
              "      filter: drop-shadow(0px 1px 2px rgba(0, 0, 0, 0.3));\n",
              "      fill: #FFFFFF;\n",
              "    }\n",
              "  </style>\n",
              "\n",
              "      <script>\n",
              "        const buttonEl =\n",
              "          document.querySelector('#df-7d2409ea-5d12-4194-b880-4c0fb234a89d button.colab-df-convert');\n",
              "        buttonEl.style.display =\n",
              "          google.colab.kernel.accessAllowed ? 'block' : 'none';\n",
              "\n",
              "        async function convertToInteractive(key) {\n",
              "          const element = document.querySelector('#df-7d2409ea-5d12-4194-b880-4c0fb234a89d');\n",
              "          const dataTable =\n",
              "            await google.colab.kernel.invokeFunction('convertToInteractive',\n",
              "                                                     [key], {});\n",
              "          if (!dataTable) return;\n",
              "\n",
              "          const docLinkHtml = 'Like what you see? Visit the ' +\n",
              "            '<a target=\"_blank\" href=https://colab.research.google.com/notebooks/data_table.ipynb>data table notebook</a>'\n",
              "            + ' to learn more about interactive tables.';\n",
              "          element.innerHTML = '';\n",
              "          dataTable['output_type'] = 'display_data';\n",
              "          await google.colab.output.renderOutput(dataTable, element);\n",
              "          const docLink = document.createElement('div');\n",
              "          docLink.innerHTML = docLinkHtml;\n",
              "          element.appendChild(docLink);\n",
              "        }\n",
              "      </script>\n",
              "    </div>\n",
              "  </div>\n",
              "  "
            ]
          },
          "metadata": {},
          "execution_count": 5
        }
      ],
      "source": [
        "df[df[\"res_id\"].duplicated()]\n",
        "#There are 74 % data are duplicate"
      ]
    },
    {
      "cell_type": "markdown",
      "metadata": {
        "id": "DwkUo555jMXW"
      },
      "source": [
        "There are 156376 rows are dupicate"
      ]
    },
    {
      "cell_type": "code",
      "execution_count": null,
      "metadata": {
        "id": "vnOCtutgh9EU"
      },
      "outputs": [],
      "source": [
        "#Droping the duplicates rows from the dataframe\n",
        "df.drop_duplicates([\"res_id\"],keep=\"last\",inplace=True)"
      ]
    },
    {
      "cell_type": "code",
      "execution_count": null,
      "metadata": {
        "colab": {
          "base_uri": "https://localhost:8080/"
        },
        "id": "5Kzix-KdiVmG",
        "outputId": "4626aa6f-4401-489c-caf0-30240b622063"
      },
      "outputs": [
        {
          "output_type": "execute_result",
          "data": {
            "text/plain": [
              "(55568, 26)"
            ]
          },
          "metadata": {},
          "execution_count": 7
        }
      ],
      "source": [
        "#after droping the dupicate data the rows left \n",
        "df.shape"
      ]
    },
    {
      "cell_type": "code",
      "execution_count": null,
      "metadata": {
        "colab": {
          "base_uri": "https://localhost:8080/"
        },
        "id": "lZDMlKjdJsW1",
        "outputId": "35631577-3037-4c48-fc21-b67d06ebea05"
      },
      "outputs": [
        {
          "output_type": "execute_result",
          "data": {
            "text/plain": [
              "res_id                    int64\n",
              "name                     object\n",
              "establishment            object\n",
              "url                      object\n",
              "address                  object\n",
              "city                     object\n",
              "city_id                   int64\n",
              "locality                 object\n",
              "latitude                float64\n",
              "longitude               float64\n",
              "zipcode                  object\n",
              "country_id                int64\n",
              "locality_verbose         object\n",
              "cuisines                 object\n",
              "timings                  object\n",
              "average_cost_for_two      int64\n",
              "price_range               int64\n",
              "currency                 object\n",
              "highlights               object\n",
              "aggregate_rating        float64\n",
              "rating_text              object\n",
              "votes                     int64\n",
              "photo_count               int64\n",
              "opentable_support       float64\n",
              "delivery                  int64\n",
              "takeaway                  int64\n",
              "dtype: object"
            ]
          },
          "metadata": {},
          "execution_count": 8
        }
      ],
      "source": [
        "#checking the data type\n",
        "df.dtypes"
      ]
    },
    {
      "cell_type": "code",
      "execution_count": null,
      "metadata": {
        "colab": {
          "base_uri": "https://localhost:8080/"
        },
        "id": "h-XARsXHMY7x",
        "outputId": "9d71e95c-3a6c-43ec-a954-fff7eb32f45a"
      },
      "outputs": [
        {
          "output_type": "execute_result",
          "data": {
            "text/plain": [
              "res_id                      0\n",
              "name                        0\n",
              "establishment               0\n",
              "url                         0\n",
              "address                    18\n",
              "city                        0\n",
              "city_id                     0\n",
              "locality                    0\n",
              "latitude                    0\n",
              "longitude                   0\n",
              "zipcode                 44623\n",
              "country_id                  0\n",
              "locality_verbose            0\n",
              "cuisines                  470\n",
              "timings                  1003\n",
              "average_cost_for_two        0\n",
              "price_range                 0\n",
              "currency                    0\n",
              "highlights                  0\n",
              "aggregate_rating            0\n",
              "rating_text                 0\n",
              "votes                       0\n",
              "photo_count                 0\n",
              "opentable_support          19\n",
              "delivery                    0\n",
              "takeaway                    0\n",
              "dtype: int64"
            ]
          },
          "metadata": {},
          "execution_count": 9
        }
      ],
      "source": [
        "#total\n",
        "df.isnull().sum()"
      ]
    },
    {
      "cell_type": "code",
      "execution_count": null,
      "metadata": {
        "colab": {
          "base_uri": "https://localhost:8080/"
        },
        "id": "c7Ii1gg_RRhp",
        "outputId": "5e6aa477-2260-4bf0-9baa-d594cc947f43"
      },
      "outputs": [
        {
          "output_type": "execute_result",
          "data": {
            "text/plain": [
              "Index(['res_id', 'name', 'establishment', 'url', 'address', 'city', 'city_id',\n",
              "       'locality', 'latitude', 'longitude', 'zipcode', 'country_id',\n",
              "       'locality_verbose', 'cuisines', 'timings', 'average_cost_for_two',\n",
              "       'price_range', 'currency', 'highlights', 'aggregate_rating',\n",
              "       'rating_text', 'votes', 'photo_count', 'opentable_support', 'delivery',\n",
              "       'takeaway'],\n",
              "      dtype='object')"
            ]
          },
          "metadata": {},
          "execution_count": 10
        }
      ],
      "source": [
        "df.columns"
      ]
    },
    {
      "cell_type": "code",
      "execution_count": null,
      "metadata": {
        "colab": {
          "base_uri": "https://localhost:8080/"
        },
        "id": "TuCr1jvXqlIx",
        "outputId": "8a4db18a-1f03-483a-88b7-e8cfaf2d8538"
      },
      "outputs": [
        {
          "output_type": "execute_result",
          "data": {
            "text/plain": [
              "55568"
            ]
          },
          "metadata": {},
          "execution_count": 11
        }
      ],
      "source": [
        "df[\"res_id\"].nunique()"
      ]
    },
    {
      "cell_type": "code",
      "execution_count": null,
      "metadata": {
        "colab": {
          "base_uri": "https://localhost:8080/"
        },
        "id": "WvcAYWL0rW0u",
        "outputId": "caa0e720-7592-4e40-f301-872d65493d3d"
      },
      "outputs": [
        {
          "output_type": "execute_result",
          "data": {
            "text/plain": [
              "111         ['Fine Dining']\n",
              "113         ['Fine Dining']\n",
              "134       ['Casual Dining']\n",
              "154       ['Casual Dining']\n",
              "155       ['Casual Dining']\n",
              "                ...        \n",
              "211939    ['Casual Dining']\n",
              "211940      ['Quick Bites']\n",
              "211941    ['Casual Dining']\n",
              "211942      ['Quick Bites']\n",
              "211943             ['Café']\n",
              "Name: establishment, Length: 55568, dtype: object"
            ]
          },
          "metadata": {},
          "execution_count": 12
        }
      ],
      "source": [
        "df[\"establishment\"]"
      ]
    },
    {
      "cell_type": "code",
      "execution_count": null,
      "metadata": {
        "colab": {
          "base_uri": "https://localhost:8080/"
        },
        "id": "sNk-sfI6tukk",
        "outputId": "0a0d6102-a5f1-4050-b6a3-65418c8b8a00"
      },
      "outputs": [
        {
          "output_type": "stream",
          "name": "stderr",
          "text": [
            "<ipython-input-13-e2e6c935367f>:1: FutureWarning: The default value of regex will change from True to False in a future version. In addition, single character regular expressions will *not* be treated as literal strings when regex=True.\n",
            "  df[\"establishment\"] =df[\"establishment\"].str.replace(\"[\", \"\").str.replace(\"]\", \"\").str.replace(\"'\", \"\")\n"
          ]
        }
      ],
      "source": [
        "df[\"establishment\"] =df[\"establishment\"].str.replace(\"[\", \"\").str.replace(\"]\", \"\").str.replace(\"'\", \"\")"
      ]
    },
    {
      "cell_type": "code",
      "execution_count": null,
      "metadata": {
        "colab": {
          "base_uri": "https://localhost:8080/"
        },
        "id": "fUZp9EfpyrsI",
        "outputId": "a4256e3d-7102-43cc-ecb3-b376ce350603"
      },
      "outputs": [
        {
          "output_type": "stream",
          "name": "stderr",
          "text": [
            "<ipython-input-14-8fedd30904d5>:1: FutureWarning: The default value of regex will change from True to False in a future version. In addition, single character regular expressions will *not* be treated as literal strings when regex=True.\n",
            "  df[\"highlights\"] =df[\"highlights\"].str.replace(\"[\", \"\").str.replace(\"]\", \"\").str.replace(\"'\", \"\")\n"
          ]
        }
      ],
      "source": [
        "df[\"highlights\"] =df[\"highlights\"].str.replace(\"[\", \"\").str.replace(\"]\", \"\").str.replace(\"'\", \"\")"
      ]
    },
    {
      "cell_type": "code",
      "execution_count": null,
      "metadata": {
        "colab": {
          "base_uri": "https://localhost:8080/"
        },
        "id": "NLtcmNG40Vy0",
        "outputId": "2a270d2f-d8e0-4b0d-9a2c-7f9eaae4c719"
      },
      "outputs": [
        {
          "output_type": "execute_result",
          "data": {
            "text/plain": [
              "(55568, 26)"
            ]
          },
          "metadata": {},
          "execution_count": 15
        }
      ],
      "source": [
        "df.shape"
      ]
    },
    {
      "cell_type": "code",
      "execution_count": null,
      "metadata": {
        "colab": {
          "base_uri": "https://localhost:8080/"
        },
        "id": "VL_ROcdJ0jrg",
        "outputId": "69bc26ff-de08-4abe-8b3b-c88cefab7bcb"
      },
      "outputs": [
        {
          "output_type": "execute_result",
          "data": {
            "text/plain": [
              "Index(['res_id', 'city_id', 'country_id', 'average_cost_for_two',\n",
              "       'price_range', 'votes', 'photo_count', 'delivery', 'takeaway'],\n",
              "      dtype='object')"
            ]
          },
          "metadata": {},
          "execution_count": 16
        }
      ],
      "source": [
        "df.select_dtypes(include=\"int64\").columns"
      ]
    },
    {
      "cell_type": "code",
      "execution_count": null,
      "metadata": {
        "colab": {
          "base_uri": "https://localhost:8080/"
        },
        "id": "Z3neghOt0-Re",
        "outputId": "1d98c2e5-8ea6-45de-9831-812209ec3b8e"
      },
      "outputs": [
        {
          "output_type": "execute_result",
          "data": {
            "text/plain": [
              "Index(['latitude', 'longitude', 'aggregate_rating', 'opentable_support'], dtype='object')"
            ]
          },
          "metadata": {},
          "execution_count": 17
        }
      ],
      "source": [
        "df.select_dtypes(include=\"float\").columns"
      ]
    },
    {
      "cell_type": "code",
      "execution_count": null,
      "metadata": {
        "colab": {
          "base_uri": "https://localhost:8080/"
        },
        "id": "qUieiWO91jaH",
        "outputId": "97083795-f1f3-45af-a6a2-8f51a9957e12"
      },
      "outputs": [
        {
          "output_type": "execute_result",
          "data": {
            "text/plain": [
              "Index(['name', 'establishment', 'url', 'address', 'city', 'locality',\n",
              "       'zipcode', 'locality_verbose', 'cuisines', 'timings', 'currency',\n",
              "       'highlights', 'rating_text'],\n",
              "      dtype='object')"
            ]
          },
          "metadata": {},
          "execution_count": 18
        }
      ],
      "source": [
        "df.select_dtypes(include=\"object\").columns"
      ]
    },
    {
      "cell_type": "code",
      "execution_count": null,
      "metadata": {
        "colab": {
          "base_uri": "https://localhost:8080/"
        },
        "id": "kPesyJ0WHFoi",
        "outputId": "18098b20-e914-48c4-f3d6-2f212a593802"
      },
      "outputs": [
        {
          "output_type": "execute_result",
          "data": {
            "text/plain": [
              "country_id    1\n",
              "dtype: int64"
            ]
          },
          "metadata": {},
          "execution_count": 19
        }
      ],
      "source": [
        "df[[\"country_id\"]].nunique()\n",
        "#it not usefull for anlaysis"
      ]
    },
    {
      "cell_type": "code",
      "execution_count": null,
      "metadata": {
        "colab": {
          "base_uri": "https://localhost:8080/"
        },
        "id": "FkjkaH6ZHb6O",
        "outputId": "eec47534-cb92-447e-8a42-ba944311e14f"
      },
      "outputs": [
        {
          "output_type": "execute_result",
          "data": {
            "text/plain": [
              "locality_verbose    3910\n",
              "dtype: int64"
            ]
          },
          "metadata": {},
          "execution_count": 20
        }
      ],
      "source": [
        "df[[\"locality_verbose\"]].nunique()"
      ]
    },
    {
      "cell_type": "code",
      "execution_count": null,
      "metadata": {
        "colab": {
          "base_uri": "https://localhost:8080/"
        },
        "id": "lBOuNSgNH_qE",
        "outputId": "6bd34044-5ba9-4121-9789-a8467deb9f82"
      },
      "outputs": [
        {
          "output_type": "execute_result",
          "data": {
            "text/plain": [
              "cuisines    470\n",
              "dtype: int64"
            ]
          },
          "metadata": {},
          "execution_count": 21
        }
      ],
      "source": [
        "#The are null values in cuisines \n",
        "df[[\"cuisines\"]].isnull().sum()"
      ]
    },
    {
      "cell_type": "code",
      "execution_count": null,
      "metadata": {
        "id": "5Ch-8SWCI2tC"
      },
      "outputs": [],
      "source": [
        "# There are 470 null data in cuisines. I have filled null data with NO Cuisine\n",
        "df[\"cuisines\"]=df[\"cuisines\"].fillna(\"No Cuisine\")"
      ]
    },
    {
      "cell_type": "code",
      "execution_count": null,
      "metadata": {
        "colab": {
          "base_uri": "https://localhost:8080/"
        },
        "id": "a5zikcIkJi5t",
        "outputId": "595cf2ac-2084-4f8b-dacd-74186dec30ad"
      },
      "outputs": [
        {
          "output_type": "stream",
          "name": "stdout",
          "text": [
            "['North Indian, Chinese, Continental' 'North Indian, Mughlai'\n",
            " 'Asian, South Indian, Continental, Chinese, North Indian' ...\n",
            " 'Awadhi, North Indian, Chinese, Mughlai'\n",
            " 'Italian, Lebanese, Healthy Food, Mongolian' 'Cafe, Healthy Food, Coffee']\n",
            "9383\n"
          ]
        }
      ],
      "source": [
        "print(df[\"cuisines\"].unique())\n",
        "print(df[\"cuisines\"].nunique())"
      ]
    },
    {
      "cell_type": "code",
      "execution_count": null,
      "metadata": {
        "colab": {
          "base_uri": "https://localhost:8080/"
        },
        "id": "dYK_FV7UKHx6",
        "outputId": "400168e2-f44b-44b8-eff6-f82d11ea2a85"
      },
      "outputs": [
        {
          "output_type": "execute_result",
          "data": {
            "text/plain": [
              "res_id                      0\n",
              "name                        0\n",
              "establishment               0\n",
              "url                         0\n",
              "address                    18\n",
              "city                        0\n",
              "city_id                     0\n",
              "locality                    0\n",
              "latitude                    0\n",
              "longitude                   0\n",
              "zipcode                 44623\n",
              "country_id                  0\n",
              "locality_verbose            0\n",
              "cuisines                    0\n",
              "timings                  1003\n",
              "average_cost_for_two        0\n",
              "price_range                 0\n",
              "currency                    0\n",
              "highlights                  0\n",
              "aggregate_rating            0\n",
              "rating_text                 0\n",
              "votes                       0\n",
              "photo_count                 0\n",
              "opentable_support          19\n",
              "delivery                    0\n",
              "takeaway                    0\n",
              "dtype: int64"
            ]
          },
          "metadata": {},
          "execution_count": 24
        }
      ],
      "source": [
        "df.isnull().sum()"
      ]
    },
    {
      "cell_type": "code",
      "execution_count": null,
      "metadata": {
        "id": "CJrx9uMr0D6g"
      },
      "outputs": [],
      "source": [
        "#ctaeted data frame for tableau\n",
        "df.to_csv(\"zamato indian restaurants.csv\",index=False)"
      ]
    },
    {
      "cell_type": "code",
      "execution_count": null,
      "metadata": {
        "colab": {
          "base_uri": "https://localhost:8080/"
        },
        "id": "F9PSMR4sg91O",
        "outputId": "6601b19d-44bd-49e3-e8b4-5c2c1d381785"
      },
      "outputs": [
        {
          "output_type": "stream",
          "name": "stdout",
          "text": [
            "Total number of unique cuisines =  134\n"
          ]
        }
      ],
      "source": [
        "cuisines = pd.Series(df[\"cuisines\"].str.split(\", \").sum())\n",
        "count = cuisines.nunique()\n",
        "print(\"Total number of unique cuisines = \", count)"
      ]
    },
    {
      "cell_type": "code",
      "execution_count": null,
      "metadata": {
        "id": "AMgA9kBEljuF"
      },
      "outputs": [],
      "source": [
        "# new data frame of cuisines\n",
        " no_restro = pd.DataFrame(cuisines.value_counts())"
      ]
    },
    {
      "cell_type": "code",
      "source": [
        "cuisines=pd.DataFrame(cuisines)"
      ],
      "metadata": {
        "id": "srbZHlFrz5Bw"
      },
      "execution_count": null,
      "outputs": []
    },
    {
      "cell_type": "code",
      "execution_count": null,
      "metadata": {
        "id": "c66pEKLlmDoi"
      },
      "outputs": [],
      "source": [
        "# export as csv\n",
        "no_restro.to_csv(\"Cuisines.csv\",index=True)"
      ]
    },
    {
      "cell_type": "code",
      "source": [
        "cuisines.value_counts()"
      ],
      "metadata": {
        "id": "Y12VqpMsy5sA",
        "colab": {
          "base_uri": "https://localhost:8080/"
        },
        "outputId": "230134ca-729e-4d9e-f9dd-1c3d35878206"
      },
      "execution_count": null,
      "outputs": [
        {
          "output_type": "execute_result",
          "data": {
            "text/plain": [
              "North Indian     19226\n",
              "Chinese          12724\n",
              "Fast Food        11988\n",
              "Desserts          7064\n",
              "Beverages         6754\n",
              "                 ...  \n",
              "Cake                 2\n",
              "Swedish              1\n",
              "Mandi                1\n",
              "International        1\n",
              "Vegan                1\n",
              "Length: 134, dtype: int64"
            ]
          },
          "metadata": {},
          "execution_count": 31
        }
      ]
    },
    {
      "cell_type": "code",
      "source": [],
      "metadata": {
        "id": "xSYiJXamaIt4"
      },
      "execution_count": null,
      "outputs": []
    }
  ],
  "metadata": {
    "colab": {
      "provenance": [],
      "mount_file_id": "1LZIiOoHFxLKi1cdRDwL-twIQxWK7m8vt",
      "authorship_tag": "ABX9TyMWlpZHSc6z5IqKGJI1EI/g",
      "include_colab_link": true
    },
    "kernelspec": {
      "display_name": "Python 3",
      "name": "python3"
    },
    "language_info": {
      "name": "python"
    }
  },
  "nbformat": 4,
  "nbformat_minor": 0
}